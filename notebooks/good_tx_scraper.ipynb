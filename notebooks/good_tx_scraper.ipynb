{
 "cells": [
  {
   "cell_type": "code",
   "execution_count": 1,
   "metadata": {},
   "outputs": [],
   "source": [
    "from bs4 import BeautifulSoup\n",
    "import requests"
   ]
  },
  {
   "cell_type": "code",
   "execution_count": 180,
   "metadata": {},
   "outputs": [],
   "source": [
    "def get_soup(url):\n",
    "    headers = {'User-Agent': 'Mozilla/5.0 (Windows NT 6.3; Win64; x64) AppleWebKit/537.36 (KHTML, like Gecko) Chrome/54.0.2840.71 Safari/537.36'}\n",
    "    page = requests.get(url, headers=headers)\n",
    "    soup = BeautifulSoup(page.content, 'html.parser')\n",
    "    soup.prettify()\n",
    "    return soup\n",
    "\n",
    "def clean_string(string: str) -> str:\n",
    "    string = clean_escapes(string)\n",
    "    \n",
    "    return string\n",
    "\n",
    "def clean_escapes(string: str):\n",
    "    string = string.replace('/','')\n",
    "    string = string.replace('/n','')\n",
    "    string = string.replace('\\n','')\n",
    "    string = string.replace('\\r','')\n",
    "\n",
    "    return string\n",
    "\n",
    "def convert_li(li: list):\n",
    "    pass\n",
    "\n",
    "def goodtx_get_all_data(soup: BeautifulSoup) -> dict:\n",
    "    all_data = {}\n",
    "    all_data['name'] = goodtx_get_name(soup)\n",
    "    all_data['writing_sample'] = goodtx_get_writing_sample(soup)\n",
    "    all_data['issues'] = goodtx_get_tx_issues(soup)\n",
    "    all_data['orientations'] = goodtx_get_orientations(soup)\n",
    "    all_data['services'] = goodtx_get_services(soup)\n",
    "    all_data['ages'] = goodtx_get_client_ages(soup)\n",
    "    all_data['professions'] = goodtx_get_professions(soup)\n",
    "    all_data['credential'] = goodtx_get_primary_credential(soup)\n",
    "    all_data['license_status'] = goodtx_get_license_status(soup)\n",
    "    all_data['website'] = goodtx_get_website(soup)\n",
    "    all_data['address'] = goodtx_get_address(soup)\n",
    "    all_data['phone'] = goodtx_get_phone(soup)\n",
    "    \n",
    "    return all_data\n",
    "\n",
    "def goodtx_get_name(soup: BeautifulSoup) -> str:\n",
    "    name = soup.find('h1', id='profileTitle_id').contents[1].get_text()\n",
    "    return clean_escapes(name)\n",
    "\n",
    "def goodtx_get_writing_sample(soup: BeautifulSoup) -> str:\n",
    "    desc = soup.find_all('div', class_='profileBottomLeft')\n",
    "    all_text = desc[0].find_all('div', class_='text')\n",
    "    good_stuff = []\n",
    "    for txt in all_text:\n",
    "        for child in txt.children:\n",
    "            if(child.name == 'p'):\n",
    "                good_stuff.append(child.get_text())\n",
    "\n",
    "    good_stuff_st = ''.join(good_stuff)\n",
    "    return good_stuff_st\n",
    "\n",
    "def goodtx_get_tx_issues(soup: BeautifulSoup)-> list:\n",
    "    issues_html = soup.find_all('ul', id='issuesData')\n",
    "    issues_list = list(issues_html[0].children)\n",
    "    \n",
    "    ##if want to return string instead\n",
    "    # issues_str = issues_html[0].get_text()\n",
    "    # clean_str = clean_string(issues_str)\n",
    "    \n",
    "    return issues_list\n",
    "\n",
    "def goodtx_get_orientations(soup: BeautifulSoup)-> list:\n",
    "    orientations_html = soup.find_all('ul', id='modelsData')\n",
    "    orientations_list = list(orientations_html[0].children)\n",
    "    \n",
    "    ##if want to return string instead\n",
    "    # issues_str = issues_html[0].get_text()\n",
    "    # clean_str = clean_string(issues_str)\n",
    "    \n",
    "    return orientations_list\n",
    "\n",
    "def goodtx_get_services(soup: BeautifulSoup)-> list:\n",
    "    services_html = soup.find_all('ul', id='servicesprovidedData')\n",
    "    services_list = list(services_html[0].children)\n",
    "    \n",
    "    return services_list\n",
    "\n",
    "def goodtx_get_client_ages(soup: BeautifulSoup) -> list:\n",
    "    ages_html = soup.find_all('ul', id='agesData')\n",
    "    ages_list = list(ages_html[0].children)\n",
    "    \n",
    "    return ages_list\n",
    "\n",
    "def goodtx_get_professions(soup: BeautifulSoup) -> list:\n",
    "    profs_str = soup.find('span', id='professionsDefined').get_text()\n",
    "    profs_list = profs_str.split(',')\n",
    "    \n",
    "    return [prof.strip() for prof in profs_list]\n",
    "\n",
    "def goodtx_get_primary_credential(soup: BeautifulSoup) -> str:\n",
    "    credential = credential_type_str = soup.find('span', id='licenceinfo1').get_text()\n",
    "    \n",
    "    return clean_escapes(credential)\n",
    "\n",
    "def goodtx_get_license_status(soup: BeautifulSoup) -> str:\n",
    "    license_status = soup.find('span', id='license_status_id').get_text()\n",
    "    \n",
    "    return clean_escapes(license_status)\n",
    "\n",
    "def goodtx_get_website(soup: BeautifulSoup) -> str:\n",
    "    try:\n",
    "        website = soup.find('a', id='edit_website')['href']\n",
    "    except:\n",
    "        website = 'None'\n",
    "    return website\n",
    "\n",
    "def goodtx_get_address(soup: BeautifulSoup) -> dict:\n",
    "    office = soup.find('div', id='editOffice1')\n",
    "    address = {}\n",
    "    \n",
    "    address['street'] = soup.find('span', itemprop='streetAddress').get_text()\n",
    "    address['city'] = soup.find('span', itemprop='addressLocality').get_text()\n",
    "    address['state'] = soup.find('span', itemprop='addressRegion').get_text()\n",
    "    address['zip'] = soup.find('span', itemprop='postalCode').get_text()\n",
    "    \n",
    "    return address\n",
    "\n",
    "def goodtx_get_phone(soup: BeautifulSoup) -> str:\n",
    "    phone = soup.find('span', itemprop='telephone').contents[1].contents[0].get_text()\n",
    "\n",
    "    return phone"
   ]
  },
  {
   "cell_type": "code",
   "execution_count": 178,
   "metadata": {},
   "outputs": [
    {
     "data": {
      "text/plain": [
       "'303-431-5641 x 4'"
      ]
     },
     "execution_count": 178,
     "metadata": {},
     "output_type": "execute_result"
    }
   ],
   "source": [
    "goodtx_get_phone(soup)"
   ]
  },
  {
   "cell_type": "code",
   "execution_count": 124,
   "metadata": {},
   "outputs": [],
   "source": [
    "#if __name__ == '__main__':\n",
    "url = 'https://www.goodtherapy.org/therapists/profile/clare-comstock-20170911'\n",
    "therapists = ['https://www.goodtherapy.org/therapists/profile/andrea-risi-20130730']\n",
    "soup = get_soup(url = url)\n",
    "\n",
    "\n",
    "soup_no_website = get_soup('https://www.goodtherapy.org/therapists/profile/julie-reichenberger-20200327')"
   ]
  },
  {
   "cell_type": "code",
   "execution_count": 182,
   "metadata": {},
   "outputs": [
    {
     "data": {
      "text/plain": [
       "{'name': 'Clare Comstock',\n",
       " 'writing_sample': 'As a therapist, I have found that there is always something trying to emerge in the symptoms we might experience. Something needing attention, or expression, or healing. You may experience problems or symptoms as disruptive thought patterns, emotional overwhelm, physical sensations, repetitive behaviors, disturbing dreams, flashbacks, or in other ways. For me, therapy is firstly a process of observing ourselves from a wider perspective. Witnessing so as to see what is needed. Noticing and naming the thoughts, emotions, and body sensations that are present so they can get worked through and unstuck; moving us back into the flow of life again. Sometimes there is a need to unhook from cultural conditioning or early childhood patterns that may be blocking our current functioning. Or a traumatic experience has disrupted our lives.\\r Therapy is also about creating safe, supported ways to go into what is there, rather than continuing to use the protective mechanisms and survival strategies we have developed. Often, the survival strategies themselves become the problem.  I find that tracking what is going on in the body, in addition to working with thoughts, emotions, and dreams, can be helpful. Facilitating the down-regulation of the nervous system helps to calm our emotions, slow our thoughts, and allow us to be present. We can respond and relate to what is there rather than react to it. Shifts can happen. Possibilities can emerge.',\n",
       " 'issues': ['\\n',\n",
       "  <li>Anxiety</li>,\n",
       "  <li>Attachment Issues</li>,\n",
       "  <li>Codependency / Dependency</li>,\n",
       "  <li>Depression</li>,\n",
       "  <li>Grief, Loss, and Bereavement</li>,\n",
       "  <li>Individuation</li>,\n",
       "  <li>Life Purpose / Meaning / Inner-Guidance</li>,\n",
       "  <li>Midlife Crisis / Midlife Transition</li>,\n",
       "  <li>Posttraumatic Stress / Trauma</li>,\n",
       "  <li>Self-Esteem</li>,\n",
       "  <li>Shame</li>,\n",
       "  <li>Social Anxiety / Phobia</li>,\n",
       "  ' '],\n",
       " 'orientations': ['\\n',\n",
       "  <li>Integration of different therapy models</li>,\n",
       "  <li>Jungian Psychotherapy</li>,\n",
       "  <li>Mindfulness-Based Interventions</li>,\n",
       "  <li>Somatic Experiencing (SE)</li>,\n",
       "  <li>Somatic Psychotherapy</li>,\n",
       "  ' '],\n",
       " 'services': ['\\n',\n",
       "  <li>Individual Therapy &amp; Counseling</li>,\n",
       "  ' ',\n",
       "  <li>Telehealth</li>,\n",
       "  ' '],\n",
       " 'ages': ['\\n', <li>Adults</li>, ' ', <li>Elders</li>, ' '],\n",
       " 'professions': ['Psychotherapist'],\n",
       " 'credential': 'LCSW ',\n",
       " 'license_status': \"I'm a licensed professional.\",\n",
       " 'website': 'https://www.clarecomstocktherapy.com/',\n",
       " 'address': {'street': '5460 Ward Rd, Suite 210',\n",
       "  'city': 'Arvada',\n",
       "  'state': 'Colorado',\n",
       "  'zip': '80002'},\n",
       " 'phone': '303-431-5641 x 4'}"
      ]
     },
     "execution_count": 182,
     "metadata": {},
     "output_type": "execute_result"
    }
   ],
   "source": [
    "therapist_info = goodtx_get_all_data(soup)\n",
    "therapist_info"
   ]
  },
  {
   "cell_type": "code",
   "execution_count": 187,
   "metadata": {},
   "outputs": [
    {
     "name": "stdout",
     "output_type": "stream",
     "text": [
      "Name:\n",
      "Clare Comstock\n",
      "\n",
      "Issues:\n",
      "['\\n', <li>Anxiety</li>, <li>Attachment Issues</li>, <li>Codependency / Dependency</li>, <li>Depression</li>, <li>Grief, Loss, and Bereavement</li>, <li>Individuation</li>, <li>Life Purpose / Meaning / Inner-Guidance</li>, <li>Midlife Crisis / Midlife Transition</li>, <li>Posttraumatic Stress / Trauma</li>, <li>Self-Esteem</li>, <li>Shame</li>, <li>Social Anxiety / Phobia</li>, ' ']\n",
      "\n",
      "Orientations:\n",
      "['\\n', <li>Integration of different therapy models</li>, <li>Jungian Psychotherapy</li>, <li>Mindfulness-Based Interventions</li>, <li>Somatic Experiencing (SE)</li>, <li>Somatic Psychotherapy</li>, ' ']\n",
      "\n",
      "Services:\n",
      "['\\n', <li>Individual Therapy &amp; Counseling</li>, ' ', <li>Telehealth</li>, ' ']\n",
      "\n",
      "Ages:\n",
      "['\\n', <li>Adults</li>, ' ', <li>Elders</li>, ' ']\n",
      "\n",
      "Writing Sample:\n",
      "As a therapist, I have found that there is always something trying to emerge in the symptoms we might experience. Something needing attention, or expression, or healing. You may experience problems or symptoms as disruptive thought patterns, emotional overwhelm, physical sensations, repetitive behaviors, disturbing dreams, flashbacks, or in other ways. For me, therapy is firstly a process of observing ourselves from a wider perspective. Witnessing so as to see what is needed. Noticing and naming the thoughts, emotions, and body sensations that are present so they can get worked through and unstuck; moving us back into the flow of life again. Sometimes there is a need to unhook from cultural conditioning or early childhood patterns that may be blocking our current functioning. Or a traumatic experience has disrupted our lives.\r",
      " Therapy is also about creating safe, supported ways to go into what is there, rather than continuing to use the protective mechanisms and survival strategies we have developed. Often, the survival strategies themselves become the problem.  I find that tracking what is going on in the body, in addition to working with thoughts, emotions, and dreams, can be helpful. Facilitating the down-regulation of the nervous system helps to calm our emotions, slow our thoughts, and allow us to be present. We can respond and relate to what is there rather than react to it. Shifts can happen. Possibilities can emerge.\n",
      "\n"
     ]
    }
   ],
   "source": [
    "name = goodtx_get_name(soup)\n",
    "issues = goodtx_get_tx_issues(soup)\n",
    "orientations = goodtx_get_orientations(soup)\n",
    "services = goodtx_get_services(soup)\n",
    "ages = goodtx_get_client_ages(soup)\n",
    "writing_sample = goodtx_get_writing_sample(soup)\n",
    "print(f'''Name:\\n{therapist_info['name']}\\n''')\n",
    "print(f'Issues:\\n{issues}\\n')\n",
    "print(f'Orientations:\\n{orientations}\\n')\n",
    "print(f'Services:\\n{services}\\n')\n",
    "print(f'Ages:\\n{ages}\\n')\n",
    "print(f'Writing Sample:\\n{writing_sample}\\n')"
   ]
  },
  {
   "cell_type": "markdown",
   "metadata": {},
   "source": [
    "#postgres database and table creation\n",
    "\n",
    "CREAtE TABLE "
   ]
  }
 ],
 "metadata": {
  "kernelspec": {
   "display_name": "Python 3",
   "language": "python",
   "name": "python3"
  },
  "language_info": {
   "codemirror_mode": {
    "name": "ipython",
    "version": 3
   },
   "file_extension": ".py",
   "mimetype": "text/x-python",
   "name": "python",
   "nbconvert_exporter": "python",
   "pygments_lexer": "ipython3",
   "version": "3.7.3"
  }
 },
 "nbformat": 4,
 "nbformat_minor": 2
}
