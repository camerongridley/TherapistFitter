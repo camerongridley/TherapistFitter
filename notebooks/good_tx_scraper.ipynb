{
 "cells": [
  {
   "cell_type": "code",
   "execution_count": 1,
   "metadata": {},
   "outputs": [],
   "source": [
    "from bs4 import BeautifulSoup\n",
    "import requests"
   ]
  },
  {
   "cell_type": "code",
   "execution_count": 113,
   "metadata": {},
   "outputs": [],
   "source": [
    "escape_chars = ['/','\\n','/n','\\r']\n",
    "\n",
    "def get_soup(url):\n",
    "    headers = {'User-Agent': 'Mozilla/5.0 (Windows NT 6.3; Win64; x64) AppleWebKit/537.36 (KHTML, like Gecko) Chrome/54.0.2840.71 Safari/537.36'}\n",
    "    page = requests.get(url, headers=headers)\n",
    "    soup = BeautifulSoup(page.content, 'html.parser')\n",
    "    soup.prettify()\n",
    "    return soup\n",
    "\n",
    "def clean_string(string: str) -> str:\n",
    "    string = clean_escapes(string)\n",
    "    #string = clean_punctuation(string)\n",
    "    \n",
    "    return string\n",
    "\n",
    "def clean_escapes(string: str):\n",
    "    for esc in escape_chars:\n",
    "        string = string.replace(esc,'')\n",
    "        #string = string.replace('/n','')\n",
    "        #string = string.replace('\\n','')\n",
    "        #string = string.replace('\\r','')\n",
    "\n",
    "    return string\n",
    "\n",
    "def clean_punctuation(string: str, keep_emo_punc=False) -> str:\n",
    "    string = string.replace('&amp;', '&')\n",
    "\n",
    "def convert_html_list(li: list):\n",
    "    clean_li = []\n",
    "    for elem in li:\n",
    "        if elem not in escape_chars:\n",
    "            try:\n",
    "                string = ''\n",
    "                if isinstance(elem, str):\n",
    "                    string = elem.strip()\n",
    "                else:\n",
    "                    string = elem.text.strip()\n",
    "                \n",
    "                #check if empty\n",
    "                if string:\n",
    "                    clean_li.append(string)\n",
    "            except Exception as e:\n",
    "                print(f'Error caught: {e}')\n",
    "                continue\n",
    "            \n",
    "    return clean_li\n",
    "    #return [tag.text for tag in li if type(tag) == 'li']\n",
    "\n",
    "def goodtx_get_all_data(soup: BeautifulSoup) -> dict:\n",
    "    all_data = {}\n",
    "    all_data['name'] = goodtx_get_name(soup)\n",
    "    all_data['writing_sample'] = goodtx_get_writing_sample(soup)\n",
    "    issues = goodtx_get_tx_issues(soup)\n",
    "    all_data['issues'] = convert_html_list(issues)\n",
    "    orientations = goodtx_get_orientations(soup)\n",
    "    all_data['orientations'] = convert_html_list(orientations)\n",
    "    services = goodtx_get_services(soup)\n",
    "    all_data['services'] = convert_html_list(services)\n",
    "    age_groups = goodtx_get_client_ages(soup)\n",
    "    all_data['ages'] = convert_html_list(age_groups)\n",
    "    professions = goodtx_get_professions(soup)\n",
    "    all_data['professions'] = convert_html_list(professions)\n",
    "    all_data['credential'] = goodtx_get_primary_credential(soup)\n",
    "    all_data['license_status'] = goodtx_get_license_status(soup)\n",
    "    all_data['website'] = goodtx_get_website(soup)\n",
    "    all_data['address'] = goodtx_get_address(soup)\n",
    "    all_data['phone'] = goodtx_get_phone(soup)\n",
    "    \n",
    "    return all_data\n",
    "\n",
    "def goodtx_get_name(soup: BeautifulSoup) -> str:\n",
    "    name = soup.find('h1', id='profileTitle_id').contents[1].get_text()\n",
    "    return clean_escapes(name)\n",
    "\n",
    "def goodtx_get_writing_sample(soup: BeautifulSoup) -> str:\n",
    "    desc = soup.find_all('div', class_='profileBottomLeft')\n",
    "    all_text = desc[0].find_all('div', class_='text')\n",
    "    good_stuff = []\n",
    "    for txt in all_text:\n",
    "        for child in txt.children:\n",
    "            if(child.name == 'p'):\n",
    "                good_stuff.append(child.get_text())\n",
    "\n",
    "    good_stuff_st = ''.join(good_stuff)\n",
    "    return good_stuff_st\n",
    "\n",
    "def goodtx_get_tx_issues(soup: BeautifulSoup)-> list:\n",
    "    issues_html = soup.find_all('ul', id='issuesData')\n",
    "    issues_list = list(issues_html[0].children)\n",
    "    \n",
    "    ##if want to return string instead\n",
    "    # issues_str = issues_html[0].get_text()\n",
    "    # clean_str = clean_string(issues_str)\n",
    "    \n",
    "    return issues_list\n",
    "\n",
    "def goodtx_get_orientations(soup: BeautifulSoup)-> list:\n",
    "    orientations_html = soup.find_all('ul', id='modelsData')\n",
    "    orientations_list = list(orientations_html[0].children)\n",
    "    \n",
    "    ##if want to return string instead\n",
    "    # issues_str = issues_html[0].get_text()\n",
    "    # clean_str = clean_string(issues_str)\n",
    "    \n",
    "    return orientations_list\n",
    "\n",
    "def goodtx_get_services(soup: BeautifulSoup)-> list:\n",
    "    services_html = soup.find_all('ul', id='servicesprovidedData')\n",
    "    services_list = list(services_html[0].children)\n",
    "    \n",
    "    return services_list\n",
    "\n",
    "def goodtx_get_client_ages(soup: BeautifulSoup) -> list:\n",
    "    ages_html = soup.find_all('ul', id='agesData')\n",
    "    ages_list = list(ages_html[0].children)\n",
    "    \n",
    "    return ages_list\n",
    "\n",
    "def goodtx_get_professions(soup: BeautifulSoup) -> list:\n",
    "    profs_str = soup.find('span', id='professionsDefined').get_text()\n",
    "    profs_list = profs_str.split(',')\n",
    "    \n",
    "    return [prof.strip() for prof in profs_list]\n",
    "\n",
    "def goodtx_get_primary_credential(soup: BeautifulSoup) -> str:\n",
    "    credential = credential_type_str = soup.find('span', id='licenceinfo1').get_text()\n",
    "    \n",
    "    return clean_escapes(credential)\n",
    "\n",
    "def goodtx_get_license_status(soup: BeautifulSoup) -> str:\n",
    "    license_status = soup.find('span', id='license_status_id').get_text()\n",
    "    \n",
    "    return clean_escapes(license_status)\n",
    "\n",
    "def goodtx_get_website(soup: BeautifulSoup) -> str:\n",
    "    try:\n",
    "        website = soup.find('a', id='edit_website')['href']\n",
    "    except:\n",
    "        website = 'None'\n",
    "    return website\n",
    "\n",
    "def goodtx_get_address(soup: BeautifulSoup) -> dict:\n",
    "    office = soup.find('div', id='editOffice1')\n",
    "    address = {}\n",
    "    \n",
    "    address['street'] = soup.find('span', itemprop='streetAddress').get_text()\n",
    "    address['city'] = soup.find('span', itemprop='addressLocality').get_text()\n",
    "    address['state'] = soup.find('span', itemprop='addressRegion').get_text()\n",
    "    address['zip'] = soup.find('span', itemprop='postalCode').get_text()\n",
    "    \n",
    "    return address\n",
    "\n",
    "def goodtx_get_phone(soup: BeautifulSoup) -> str:\n",
    "    phone  =soup.find('span', {'class':'profilePhone'}).text\n",
    "    #phone = soup.find('span', class='profilePhone').contents[1].contents[0].get_text()\n",
    "\n",
    "    return clean_string(phone)"
   ]
  },
  {
   "cell_type": "code",
   "execution_count": 59,
   "metadata": {},
   "outputs": [
    {
     "data": {
      "text/plain": [
       "['Psychotherapist']"
      ]
     },
     "execution_count": 59,
     "metadata": {},
     "output_type": "execute_result"
    }
   ],
   "source": [
    "li_test = goodtx_get_professions(soup)\n",
    "li_test"
   ]
  },
  {
   "cell_type": "code",
   "execution_count": 55,
   "metadata": {},
   "outputs": [
    {
     "name": "stdout",
     "output_type": "stream",
     "text": [
      "Error caught: 'NavigableString' object has no attribute 'text'\n",
      "Error caught: 'NavigableString' object has no attribute 'text'\n"
     ]
    },
    {
     "data": {
      "text/plain": [
       "['Individual Therapy & Counseling', 'Telehealth']"
      ]
     },
     "execution_count": 55,
     "metadata": {},
     "output_type": "execute_result"
    }
   ],
   "source": [
    "result = convert_html_list(li_test)\n",
    "result"
   ]
  },
  {
   "cell_type": "code",
   "execution_count": 75,
   "metadata": {},
   "outputs": [],
   "source": [
    "#if __name__ == '__main__':\n",
    "#url = 'https://www.goodtherapy.org/therapists/profile/clare-comstock-20170911'\n",
    "url = 'https://www.goodtherapy.org/therapists/profile/morgan-dingle-20191203'\n",
    "#therapists = ['https://www.goodtherapy.org/therapists/profile/andrea-risi-20130730']\n",
    "#url = 'http://www.inbetweentherapy.com'\n",
    "soup = get_soup(url = url)\n",
    "\n",
    "\n",
    "#soup_no_website = get_soup('https://www.goodtherapy.org/therapists/profile/julie-reichenberger-20200327')"
   ]
  },
  {
   "cell_type": "code",
   "execution_count": 7,
   "metadata": {},
   "outputs": [
    {
     "name": "stdout",
     "output_type": "stream",
     "text": [
      "Clare Comstock\n",
      "LCSW\n",
      "LCSW\n",
      "LCSW\n",
      "Offices\n",
      "My Approach to Helping\n",
      "Services I Provide\n",
      "Ages I Work With\n",
      "Languages\n",
      "Client Concerns I Treat\n",
      "Types of Therapy\n",
      "About GoodTherapy\n",
      "Resources\n",
      "Subscribe to Newsletter\n",
      "Follow GoodTherapy\n"
     ]
    }
   ],
   "source": [
    "for h in list(soup.find_all('h2')):\n",
    "    print(h.get_text())"
   ]
  },
  {
   "cell_type": "code",
   "execution_count": 115,
   "metadata": {},
   "outputs": [
    {
     "data": {
      "text/plain": [
       "{'name': 'Morgan Dingle',\n",
       " 'writing_sample': 'The days are blurring together. There’s a pressure in your chest that won’t go away. It’s hard to breathe because you are so overwhelmed. You see everything that’s not working but feel out of control. Distracting yourself with friends, alcohol, exercise, etc. used to work. Now, you’re stuck at home, unable to distract yourself for long. You hate who you are. Up to this point, you were surviving, but you want more. You think, “if only I wasn’t so sensitive.” Your whole life you’ve felt small, judged, shamed. There has to be more. You don’t want to be that person anymore, and you need help. You need someone to see the real you.\\r If you could add one person to your life that would’ve changed everything who would that be? A parent, sibling, mentor? Together, we’ll take on whatever is keeping you trapped in your depression and anxiety. My process dives into how your mind and body keep you spinning in downward cycles. You will experience relief by learning to trust yourself through our relationship.\\r During our sessions, we’ll walk through your pain safely. It’s through your resilience that I work to empower you and move beyond what’s holding you down. You’ll benefit from working with me if you are ready to dig in with honesty. Our time is not for tip-toeing around problems but confronting the pain head-on. Call me to set up a free 30-minute consultation.Relationship and Emotional Challenges; Childhood, Generational, and Psychological Trauma; Anxiety and Depression in Young Professionals; LGBTQPIA Community.',\n",
       " 'issues': ['Abandonment',\n",
       "  'Abuse / Abuse Survivor Issues',\n",
       "  'Academic Concerns',\n",
       "  'Adjusting to Change / Life Transitions',\n",
       "  'Aggression and Violence',\n",
       "  'Anxiety',\n",
       "  'Attachment Issues',\n",
       "  'Breakup',\n",
       "  'Bullying',\n",
       "  'Codependency / Dependency',\n",
       "  'Communication Problems',\n",
       "  'Depression',\n",
       "  'Dissociation',\n",
       "  'Emotional Abuse',\n",
       "  'Emotional Intelligence',\n",
       "  'Emotional Overwhelm',\n",
       "  'Emptiness',\n",
       "  'Family of Origin Issues',\n",
       "  'Family Problems',\n",
       "  'Identity Issues',\n",
       "  'Inadequacy',\n",
       "  'Individuation',\n",
       "  'Isolation',\n",
       "  'LGBT (Lesbian, Gay, Bisexual, and Transgender) Issues',\n",
       "  'Life Purpose / Meaning / Inner-Guidance',\n",
       "  'Midlife Crisis / Midlife Transition',\n",
       "  'Mood Swings / Mood Disturbance',\n",
       "  'Multicultural Concerns',\n",
       "  'Perfectionism',\n",
       "  'Polyamory / Nonmonogamous Relationships',\n",
       "  'Posttraumatic Stress / Trauma',\n",
       "  'Prejudice / Discrimination',\n",
       "  'Racism',\n",
       "  'Relationships and Marriage',\n",
       "  'School issues',\n",
       "  'Self-Actualization',\n",
       "  'Self-Care',\n",
       "  'Self-Compassion',\n",
       "  'Self-Confidence',\n",
       "  'Self-Criticism',\n",
       "  'Self-Doubt',\n",
       "  'Self-Esteem',\n",
       "  'Self-Love',\n",
       "  'Sensitivity to Criticism',\n",
       "  'Shame',\n",
       "  'Stress',\n",
       "  'Suicidal Ideation and Behavior',\n",
       "  'Values Clarification',\n",
       "  \"Women's Issues\",\n",
       "  'Workplace Issues',\n",
       "  'Worry',\n",
       "  'Worthlessness',\n",
       "  'Young Adult Issues'],\n",
       " 'orientations': ['Attachment-Based Family Therapy (ABFT)',\n",
       "  'Body-Mind Psychotherapy',\n",
       "  'Energy Psychology',\n",
       "  'Existential Psychotherapy',\n",
       "  'Feminist Therapy',\n",
       "  'Gestalt Therapy',\n",
       "  'Humanistic Psychology (humanism)',\n",
       "  'Interpersonal Neurobiology (IPNB)',\n",
       "  'Mindfulness-Based Interventions',\n",
       "  'Person-Centered Therapy (Rogerian Therapy)',\n",
       "  'Psychodynamic',\n",
       "  'Sensorimotor Psychotherapy'],\n",
       " 'services': ['Individual Therapy & Counseling',\n",
       "  'Marriage, Couples, or Relationship Counseling',\n",
       "  'Telehealth'],\n",
       " 'ages': ['Teens', 'Adults', 'Elders'],\n",
       " 'professions': ['Counselor', 'Mental Health Counselor', 'Psychotherapist'],\n",
       " 'credential': 'Licensed Professional Counselor Candidate - 0017187 ',\n",
       " 'license_status': \"I'm a therapist practicing under supervision.\",\n",
       " 'website': 'http://www.morgandingletherapy.com',\n",
       " 'address': {'street': '5181 Ward Road, Suite 206',\n",
       "  'city': 'Wheat Ridge',\n",
       "  'state': 'Colorado',\n",
       "  'zip': '80033'},\n",
       " 'phone': '720-605-3679'}"
      ]
     },
     "execution_count": 115,
     "metadata": {},
     "output_type": "execute_result"
    }
   ],
   "source": [
    "therapist_info = goodtx_get_all_data(soup)\n",
    "therapist_info"
   ]
  },
  {
   "cell_type": "code",
   "execution_count": 80,
   "metadata": {},
   "outputs": [
    {
     "data": {
      "text/plain": [
       "['Counselor', ' Mental Health Counselor', ' Psychotherapist']"
      ]
     },
     "execution_count": 80,
     "metadata": {},
     "output_type": "execute_result"
    }
   ],
   "source": [
    "profs_str = soup.find('span', id='professionsDefined').text\n",
    "profs_list = profs_str.split(',')\n",
    "profs_list"
   ]
  },
  {
   "cell_type": "code",
   "execution_count": 82,
   "metadata": {},
   "outputs": [
    {
     "data": {
      "text/plain": [
       "'\\n'"
      ]
     },
     "execution_count": 82,
     "metadata": {},
     "output_type": "execute_result"
    }
   ],
   "source": [
    "soup.find('span', itemprop='telephone').contents[1].contents[0]"
   ]
  },
  {
   "cell_type": "code",
   "execution_count": 100,
   "metadata": {
    "scrolled": true
   },
   "outputs": [
    {
     "data": {
      "text/plain": [
       "'\\n\\n720-605-3679\\n\\n'"
      ]
     },
     "execution_count": 100,
     "metadata": {},
     "output_type": "execute_result"
    }
   ],
   "source": [
    "soup.find('span', {'class':'profilePhone'}).text"
   ]
  },
  {
   "cell_type": "code",
   "execution_count": 114,
   "metadata": {},
   "outputs": [
    {
     "data": {
      "text/plain": [
       "'720-605-3679'"
      ]
     },
     "execution_count": 114,
     "metadata": {},
     "output_type": "execute_result"
    }
   ],
   "source": [
    "goodtx_get_phone(soup)"
   ]
  }
 ],
 "metadata": {
  "kernelspec": {
   "display_name": "Python 3",
   "language": "python",
   "name": "python3"
  },
  "language_info": {
   "codemirror_mode": {
    "name": "ipython",
    "version": 3
   },
   "file_extension": ".py",
   "mimetype": "text/x-python",
   "name": "python",
   "nbconvert_exporter": "python",
   "pygments_lexer": "ipython3",
   "version": "3.7.3"
  }
 },
 "nbformat": 4,
 "nbformat_minor": 2
}
