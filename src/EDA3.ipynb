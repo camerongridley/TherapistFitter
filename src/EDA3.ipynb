{
 "cells": [
  {
   "cell_type": "code",
   "execution_count": 11,
   "metadata": {},
   "outputs": [],
   "source": [
    "import psycopg2\n",
    "import pandas as pd\n",
    "from postgresql_handler import PostgreSQLHandler\n",
    "from data_pre_processor import DataPreProcessor\n",
    "\n",
    "from plotly.offline import plot\n",
    "import plotly.graph_objects as go\n",
    "import plotly.express as px\n",
    "\n",
    "processor = DataPreProcessor()\n",
    "psql = PostgreSQLHandler()"
   ]
  },
  {
   "cell_type": "code",
   "execution_count": null,
   "metadata": {},
   "outputs": [],
   "source": [
    "sql = 'SELECT * FROM therapists'\n",
    "df = psql.sql_to_pandas(sql)\n",
    "\n",
    "df_processed = processor.processing_pipeline(df)\n",
    "\n",
    "psql.close_conn()"
   ]
  },
  {
   "cell_type": "code",
   "execution_count": 2,
   "metadata": {},
   "outputs": [
    {
     "data": {
      "text/html": [
       "<div>\n",
       "<style scoped>\n",
       "    .dataframe tbody tr th:only-of-type {\n",
       "        vertical-align: middle;\n",
       "    }\n",
       "\n",
       "    .dataframe tbody tr th {\n",
       "        vertical-align: top;\n",
       "    }\n",
       "\n",
       "    .dataframe thead th {\n",
       "        text-align: right;\n",
       "    }\n",
       "</style>\n",
       "<table border=\"1\" class=\"dataframe\">\n",
       "  <thead>\n",
       "    <tr style=\"text-align: right;\">\n",
       "      <th></th>\n",
       "      <th>writing_sample</th>\n",
       "      <th>writing_sample_lemmatize</th>\n",
       "      <th>writing_sample_processed</th>\n",
       "    </tr>\n",
       "  </thead>\n",
       "  <tbody>\n",
       "    <tr>\n",
       "      <th>0</th>\n",
       "      <td>i have a masters degree in both education and ...</td>\n",
       "      <td>i have a master degree in both education and s...</td>\n",
       "      <td>i have a master degree in both education and s...</td>\n",
       "    </tr>\n",
       "    <tr>\n",
       "      <th>1</th>\n",
       "      <td>are you hoping to become a mother but are havi...</td>\n",
       "      <td>be -PRON- hope to become a mother but be have ...</td>\n",
       "      <td>be  hope to become a mother but be have diffic...</td>\n",
       "    </tr>\n",
       "    <tr>\n",
       "      <th>2</th>\n",
       "      <td>are you struggling with aligning your life act...</td>\n",
       "      <td>be -PRON- struggle with align -PRON- life acti...</td>\n",
       "      <td>be  struggle with align  life activity with  v...</td>\n",
       "    </tr>\n",
       "    <tr>\n",
       "      <th>3</th>\n",
       "      <td>you are unique and deserve to learn in the sty...</td>\n",
       "      <td>-PRON- be unique and deserve to learn in the s...</td>\n",
       "      <td>be unique and deserve to learn in the style t...</td>\n",
       "    </tr>\n",
       "    <tr>\n",
       "      <th>4</th>\n",
       "      <td>philosophy\\r were a practice dedicated to serv...</td>\n",
       "      <td>philosophy \\r  be a practice dedicate to serve...</td>\n",
       "      <td>philosophy \\r  be a practice dedicate to serve...</td>\n",
       "    </tr>\n",
       "  </tbody>\n",
       "</table>\n",
       "</div>"
      ],
      "text/plain": [
       "                                      writing_sample  \\\n",
       "0  i have a masters degree in both education and ...   \n",
       "1  are you hoping to become a mother but are havi...   \n",
       "2  are you struggling with aligning your life act...   \n",
       "3  you are unique and deserve to learn in the sty...   \n",
       "4  philosophy\\r were a practice dedicated to serv...   \n",
       "\n",
       "                            writing_sample_lemmatize  \\\n",
       "0  i have a master degree in both education and s...   \n",
       "1  be -PRON- hope to become a mother but be have ...   \n",
       "2  be -PRON- struggle with align -PRON- life acti...   \n",
       "3  -PRON- be unique and deserve to learn in the s...   \n",
       "4  philosophy \\r  be a practice dedicate to serve...   \n",
       "\n",
       "                            writing_sample_processed  \n",
       "0  i have a master degree in both education and s...  \n",
       "1  be  hope to become a mother but be have diffic...  \n",
       "2  be  struggle with align  life activity with  v...  \n",
       "3   be unique and deserve to learn in the style t...  \n",
       "4  philosophy \\r  be a practice dedicate to serve...  "
      ]
     },
     "execution_count": 2,
     "metadata": {},
     "output_type": "execute_result"
    }
   ],
   "source": [
    "df_processed.head()"
   ]
  },
  {
   "cell_type": "code",
   "execution_count": 8,
   "metadata": {},
   "outputs": [],
   "source": [
    "import pickle\n",
    "pickle.dump(df_processed, open( '../data/processed_df', \"wb\" ) )"
   ]
  },
  {
   "cell_type": "code",
   "execution_count": 9,
   "metadata": {},
   "outputs": [],
   "source": [
    "df2 = pickle.load( open( '../data/processed_df', \"rb\" ) )"
   ]
  },
  {
   "cell_type": "code",
   "execution_count": 10,
   "metadata": {},
   "outputs": [
    {
     "data": {
      "text/html": [
       "<div>\n",
       "<style scoped>\n",
       "    .dataframe tbody tr th:only-of-type {\n",
       "        vertical-align: middle;\n",
       "    }\n",
       "\n",
       "    .dataframe tbody tr th {\n",
       "        vertical-align: top;\n",
       "    }\n",
       "\n",
       "    .dataframe thead th {\n",
       "        text-align: right;\n",
       "    }\n",
       "</style>\n",
       "<table border=\"1\" class=\"dataframe\">\n",
       "  <thead>\n",
       "    <tr style=\"text-align: right;\">\n",
       "      <th></th>\n",
       "      <th>writing_sample</th>\n",
       "      <th>writing_sample_lemmatize</th>\n",
       "      <th>writing_sample_processed</th>\n",
       "    </tr>\n",
       "  </thead>\n",
       "  <tbody>\n",
       "    <tr>\n",
       "      <th>0</th>\n",
       "      <td>i have a masters degree in both education and ...</td>\n",
       "      <td>i have a master degree in both education and s...</td>\n",
       "      <td>i have a master degree in both education and s...</td>\n",
       "    </tr>\n",
       "    <tr>\n",
       "      <th>1</th>\n",
       "      <td>are you hoping to become a mother but are havi...</td>\n",
       "      <td>be -PRON- hope to become a mother but be have ...</td>\n",
       "      <td>be  hope to become a mother but be have diffic...</td>\n",
       "    </tr>\n",
       "    <tr>\n",
       "      <th>2</th>\n",
       "      <td>are you struggling with aligning your life act...</td>\n",
       "      <td>be -PRON- struggle with align -PRON- life acti...</td>\n",
       "      <td>be  struggle with align  life activity with  v...</td>\n",
       "    </tr>\n",
       "    <tr>\n",
       "      <th>3</th>\n",
       "      <td>you are unique and deserve to learn in the sty...</td>\n",
       "      <td>-PRON- be unique and deserve to learn in the s...</td>\n",
       "      <td>be unique and deserve to learn in the style t...</td>\n",
       "    </tr>\n",
       "    <tr>\n",
       "      <th>4</th>\n",
       "      <td>philosophy\\r were a practice dedicated to serv...</td>\n",
       "      <td>philosophy \\r  be a practice dedicate to serve...</td>\n",
       "      <td>philosophy \\r  be a practice dedicate to serve...</td>\n",
       "    </tr>\n",
       "  </tbody>\n",
       "</table>\n",
       "</div>"
      ],
      "text/plain": [
       "                                      writing_sample  \\\n",
       "0  i have a masters degree in both education and ...   \n",
       "1  are you hoping to become a mother but are havi...   \n",
       "2  are you struggling with aligning your life act...   \n",
       "3  you are unique and deserve to learn in the sty...   \n",
       "4  philosophy\\r were a practice dedicated to serv...   \n",
       "\n",
       "                            writing_sample_lemmatize  \\\n",
       "0  i have a master degree in both education and s...   \n",
       "1  be -PRON- hope to become a mother but be have ...   \n",
       "2  be -PRON- struggle with align -PRON- life acti...   \n",
       "3  -PRON- be unique and deserve to learn in the s...   \n",
       "4  philosophy \\r  be a practice dedicate to serve...   \n",
       "\n",
       "                            writing_sample_processed  \n",
       "0  i have a master degree in both education and s...  \n",
       "1  be  hope to become a mother but be have diffic...  \n",
       "2  be  struggle with align  life activity with  v...  \n",
       "3   be unique and deserve to learn in the style t...  \n",
       "4  philosophy \\r  be a practice dedicate to serve...  "
      ]
     },
     "execution_count": 10,
     "metadata": {},
     "output_type": "execute_result"
    }
   ],
   "source": [
    "df2.head()"
   ]
  }
 ],
 "metadata": {
  "kernelspec": {
   "display_name": "Python 3",
   "language": "python",
   "name": "python3"
  },
  "language_info": {
   "codemirror_mode": {
    "name": "ipython",
    "version": 3
   },
   "file_extension": ".py",
   "mimetype": "text/x-python",
   "name": "python",
   "nbconvert_exporter": "python",
   "pygments_lexer": "ipython3",
   "version": "3.7.3"
  }
 },
 "nbformat": 4,
 "nbformat_minor": 2
}
